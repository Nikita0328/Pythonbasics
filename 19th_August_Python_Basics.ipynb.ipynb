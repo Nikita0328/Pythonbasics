{
 "cells": [
  {
   "cell_type": "raw",
   "id": "a12a6bde-b062-4a31-8628-f3593de19b80",
   "metadata": {},
   "source": [
    "TOPIC: Python Basics Variable"
   ]
  },
  {
   "cell_type": "raw",
   "id": "5bf0ddd6-01b0-4d42-b9a0-d726beaa3617",
   "metadata": {},
   "source": [
    "1. Declare two variables, `x` and `y`, and assign them integer values. Swap the\n",
    "values of these variables without using any temporary variable."
   ]
  },
  {
   "cell_type": "code",
   "execution_count": 10,
   "id": "a4fdb696-49d8-449e-a316-91950ae0fbfe",
   "metadata": {},
   "outputs": [
    {
     "name": "stdout",
     "output_type": "stream",
     "text": [
      "value of x and y before swap: 4 , 5\n",
      "value of x and y after swap: 5 , 4\n"
     ]
    }
   ],
   "source": [
    "x , y = 4 , 5\n",
    "\n",
    "print(\"value of x and y before swap:\",x,\",\",y)\n",
    "\n",
    "x , y = y , x\n",
    "\n",
    "print(\"value of x and y after swap:\",x,\",\",y)"
   ]
  },
  {
   "cell_type": "raw",
   "id": "1a28901e-01b2-4664-88f8-abf72726cee7",
   "metadata": {},
   "source": [
    "2. Create a program that calculates the area of a rectangle. Take the length and\n",
    "width as inputs from the user and store them in variables. Calculate and\n",
    "display the area."
   ]
  },
  {
   "cell_type": "code",
   "execution_count": 14,
   "id": "8da3585e-3cd1-49f2-878c-027f6c6893ec",
   "metadata": {},
   "outputs": [
    {
     "name": "stdin",
     "output_type": "stream",
     "text": [
      "Enter length of the rectangle :  11\n",
      "Enter width of the rectangle :  5\n"
     ]
    },
    {
     "name": "stdout",
     "output_type": "stream",
     "text": [
      "Area of the rectangle is :  55.0\n"
     ]
    }
   ],
   "source": [
    "length = float(input(\"Enter length of the rectangle : \"))\n",
    "width = float(input(\"Enter width of the rectangle : \"))\n",
    "\n",
    "area = length * width\n",
    "\n",
    "print(\"Area of the rectangle is : \",area)"
   ]
  },
  {
   "cell_type": "raw",
   "id": "c8d03824-534c-43e8-b2c2-d181c7544be8",
   "metadata": {},
   "source": [
    "Write a Python program that converts temperatures from Celsius to\n",
    "Fahrenheit. Take the temperature in Celsius as input, store it in a variable,\n",
    "convert it to Fahrenheit, and display the result."
   ]
  },
  {
   "cell_type": "code",
   "execution_count": 17,
   "id": "8683d13a-c64a-4e95-8d2f-036e00af368f",
   "metadata": {},
   "outputs": [
    {
     "name": "stdin",
     "output_type": "stream",
     "text": [
      "Enter the temperature 30\n"
     ]
    },
    {
     "name": "stdout",
     "output_type": "stream",
     "text": [
      "30.0 Celsius is equal to  86.0 Fahrenheit\n"
     ]
    }
   ],
   "source": [
    "temp_celsius = float(input(\"Enter the temperature\"))\n",
    "\n",
    "temp_fahrenheit = (temp_celsius * 9/5 ) + 32\n",
    "\n",
    "print(temp_celsius, \"Celsius is equal to \",temp_fahrenheit,\"Fahrenheit\")"
   ]
  },
  {
   "cell_type": "raw",
   "id": "86455fd6-3d05-4115-9099-4dbc102a29ce",
   "metadata": {},
   "source": [
    "TOPIC: String Based Questions"
   ]
  },
  {
   "cell_type": "raw",
   "id": "aff5dbeb-fbbf-4656-95f3-74aa698d95f9",
   "metadata": {},
   "source": [
    "1. Write a Python program that takes a string as input and prints the length of\n",
    "the string."
   ]
  },
  {
   "cell_type": "code",
   "execution_count": 20,
   "id": "61232c4d-84ef-4324-9f74-152ce19181c9",
   "metadata": {},
   "outputs": [
    {
     "name": "stdin",
     "output_type": "stream",
     "text": [
      "Enter a string : Hey Whatsup!\n"
     ]
    },
    {
     "name": "stdout",
     "output_type": "stream",
     "text": [
      "Length of the string is :  12\n"
     ]
    }
   ],
   "source": [
    "string1 = str(input(\"Enter a string :\"))\n",
    "\n",
    "length_string1 = len(string1)\n",
    "\n",
    "print(\"Length of the string is : \",length_string1)"
   ]
  },
  {
   "cell_type": "raw",
   "id": "d301ce21-b4e5-4aa1-a28d-7d299eb58f5a",
   "metadata": {},
   "source": [
    "2. Create a program that takes a sentence from the user and counts the number\n",
    "of vowels (a, e, i, o, u) in the string."
   ]
  },
  {
   "cell_type": "code",
   "execution_count": 10,
   "id": "b60779b8-307b-40ef-8b0a-4ee270b59776",
   "metadata": {},
   "outputs": [
    {
     "name": "stdin",
     "output_type": "stream",
     "text": [
      "Enter a sentence:  This a string program\n"
     ]
    },
    {
     "name": "stdout",
     "output_type": "stream",
     "text": [
      "5\n"
     ]
    }
   ],
   "source": [
    "sentence = str(input(\"Enter a sentence: \"))\n",
    "\n",
    "count = 0\n",
    "\n",
    "for char in sentence:\n",
    "    char_lower = char.lower()\n",
    "    \n",
    "    if char_lower in \"aeiou\":\n",
    "        count = count + 1\n",
    "\n",
    "print(count)\n",
    "    "
   ]
  },
  {
   "cell_type": "raw",
   "id": "c661e59c-1dbd-4901-8424-1fcf1df17071",
   "metadata": {},
   "source": [
    "3. Given a string, reverse the order of characters using string slicing and print\n",
    "the reversed string."
   ]
  },
  {
   "cell_type": "code",
   "execution_count": 12,
   "id": "7596aae9-9554-4542-83a4-89f03b5c0aab",
   "metadata": {},
   "outputs": [
    {
     "name": "stdin",
     "output_type": "stream",
     "text": [
      "Enter a string: welcome\n"
     ]
    },
    {
     "name": "stdout",
     "output_type": "stream",
     "text": [
      "Reverse of  welcome is :  emoclew\n"
     ]
    }
   ],
   "source": [
    "string = str(input(\"Enter a string:\"))\n",
    "\n",
    "reverse_string = string[::-1]\n",
    "\n",
    "print(\"Reverse of \",string,\"is : \",reverse_string)"
   ]
  },
  {
   "cell_type": "raw",
   "id": "bbe6c93a-4794-419e-86c9-59556435a8c4",
   "metadata": {},
   "source": [
    "4. Write a program that takes a string as input and checks if it is a palindrome\n",
    "(reads the same forwards and backwards)."
   ]
  },
  {
   "cell_type": "code",
   "execution_count": 3,
   "id": "409a1c39-2799-48bd-a39e-4983870b21f1",
   "metadata": {},
   "outputs": [
    {
     "name": "stdin",
     "output_type": "stream",
     "text": [
      "Enter a string: refer\n"
     ]
    },
    {
     "name": "stdout",
     "output_type": "stream",
     "text": [
      "The input string is a palindrome\n"
     ]
    }
   ],
   "source": [
    "input_string = str(input(\"Enter a string:\"))\n",
    "\n",
    "cleared_string = input_string.replace(\" \",\"\")\n",
    "cleared_string.lower()\n",
    "\n",
    "reverse_string = cleared_string[::-1]\n",
    "\n",
    "if reverse_string == cleared_string:\n",
    "    print(\"The input string is a palindrome\")\n",
    "else:\n",
    "    print(\"The input string is not a palindrome\")\n",
    "\n",
    "\n"
   ]
  },
  {
   "cell_type": "raw",
   "id": "875318c6-8aa5-4836-967d-aec2cb1fd6fd",
   "metadata": {},
   "source": [
    "5. Create a program that takes a string as input and removes all the spaces from\n",
    "it. Print the modified string without spaces."
   ]
  },
  {
   "cell_type": "code",
   "execution_count": 4,
   "id": "6fd0f242-2fcd-462e-9beb-b4f16a38b815",
   "metadata": {},
   "outputs": [
    {
     "name": "stdin",
     "output_type": "stream",
     "text": [
      "Enter a string:  Welcome to data science world\n"
     ]
    },
    {
     "name": "stdout",
     "output_type": "stream",
     "text": [
      "he modified string without spaces is:  Welcometodatascienceworld\n"
     ]
    }
   ],
   "source": [
    "raw_string = str(input(\"Enter a string: \"))\n",
    "\n",
    "new_string = raw_string.replace(\" \",\"\")\n",
    "\n",
    "print(\"he modified string without spaces is: \",new_string)"
   ]
  },
  {
   "cell_type": "code",
   "execution_count": null,
   "id": "99fd25ca-47b1-4161-8a56-b11767438b9c",
   "metadata": {},
   "outputs": [],
   "source": []
  }
 ],
 "metadata": {
  "kernelspec": {
   "display_name": "Python 3 (ipykernel)",
   "language": "python",
   "name": "python3"
  },
  "language_info": {
   "codemirror_mode": {
    "name": "ipython",
    "version": 3
   },
   "file_extension": ".py",
   "mimetype": "text/x-python",
   "name": "python",
   "nbconvert_exporter": "python",
   "pygments_lexer": "ipython3",
   "version": "3.10.8"
  }
 },
 "nbformat": 4,
 "nbformat_minor": 5
}
